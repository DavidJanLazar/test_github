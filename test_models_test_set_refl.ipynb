{
 "cells": [
  {
   "cell_type": "code",
   "execution_count": 1,
   "id": "4e54f3a4-0b4a-44e3-a4b6-f74fce25e609",
   "metadata": {},
   "outputs": [],
   "source": [
    "import pandas as pd \n",
    "import mlflow\n",
    "\n",
    "\n",
    "import numpy as np\n",
    "import sklearn.metrics as metrics\n",
    "\n"
   ]
  },
  {
   "cell_type": "code",
   "execution_count": 3,
   "id": "1e21ac78-8c8e-4aad-b73e-c393304d6f09",
   "metadata": {},
   "outputs": [],
   "source": [
    "def hackathon_loss(y_true, y_pred, remittence):\n",
    "    cond_linear = np.logical_and(y_pred>y_true, remittence==0)\n",
    "    cond_quadratic = ~np.logical_and(y_pred>y_true, remittence==0)\n",
    "    diff = y_pred-y_true\n",
    "    return np.hstack([diff[cond_linear], diff[cond_quadratic]**2]).mean()\n",
    "\n"
   ]
  },
  {
   "cell_type": "code",
   "execution_count": 4,
   "id": "18555947-7eef-47bf-ae9e-62a87ebdcd9d",
   "metadata": {},
   "outputs": [],
   "source": [
    "def get_metrics(y_true, y_pred, remittence):\n",
    "    mean_absolute_error = metrics.mean_absolute_error(y_true, y_pred)\n",
    "    mse = metrics.mean_squared_error(y_true, y_pred)\n",
    "    r2 = metrics.r2_score(y_true, y_pred)\n",
    "    hachathon_loss = hackathon_loss(y_true, y_pred, remittence)\n",
    "\n",
    "    return {\n",
    "        \"MAE\": mean_absolute_error,\n",
    "        \"MSE\": mse,\n",
    "        \"r2\": r2,\n",
    "        \"hackathon_loss\": hachathon_loss,\n",
    "    }\n",
    "\n",
    "def make_lags(df, lags, col):\n",
    "    \n",
    "    for lag in lags:\n",
    "         df = pd.merge(\n",
    "                 left=df, \n",
    "                 right=df.groupby([\"CISLO_ODBERATELE\", \"ID_ADRESA\"])[col].shift(lag), \n",
    "                 left_index=True, \n",
    "                 right_index=True, \n",
    "                 suffixes=(\"\", f\"_NEW_SHIFT_{lag}\"), \n",
    "                 how=\"left\"\n",
    "             )\n",
    "            \n",
    "    return df\n"
   ]
  },
  {
   "cell_type": "code",
   "execution_count": null,
   "id": "1ab503c9-4d4e-4de3-942b-5fd72238c586",
   "metadata": {},
   "outputs": [],
   "source": [
    "pip install catboost"
   ]
  },
  {
   "cell_type": "code",
   "execution_count": 5,
   "id": "89390f52-8c88-45c5-9bde-8f08e1c2aa1f",
   "metadata": {},
   "outputs": [],
   "source": [
    "from catboost import CatBoostRegressor"
   ]
  },
  {
   "cell_type": "code",
   "execution_count": 6,
   "id": "14b8b521-ca27-4479-a03a-79e9bd4b12a8",
   "metadata": {},
   "outputs": [],
   "source": [
    "test_data = pd.read_csv(\"in/tables/REFL_TEST.csv\")"
   ]
  },
  {
   "cell_type": "code",
   "execution_count": 7,
   "id": "7bbdf4cd-0180-46b1-9906-edad23ec11fe",
   "metadata": {},
   "outputs": [],
   "source": [
    "reflex_test = test_data.copy()"
   ]
  },
  {
   "cell_type": "code",
   "execution_count": 8,
   "id": "6bbff4d3-7334-48a4-8a77-31fa84477127",
   "metadata": {},
   "outputs": [],
   "source": [
    "monitoring_reflex = pd.read_csv(\"in/tables/MONITORING_SUM_REFL-csv.csv\")"
   ]
  },
  {
   "cell_type": "code",
   "execution_count": 9,
   "id": "093c62d0-ce14-444b-a130-133501e9d6ca",
   "metadata": {},
   "outputs": [
    {
     "data": {
      "text/plain": [
       "'2021-07-01'"
      ]
     },
     "execution_count": 9,
     "metadata": {},
     "output_type": "execute_result"
    }
   ],
   "source": [
    "reflex_test.EXPEDICE.min()"
   ]
  },
  {
   "cell_type": "code",
   "execution_count": 10,
   "id": "febb328f-91e7-4ebc-b998-80e84a435e29",
   "metadata": {},
   "outputs": [
    {
     "data": {
      "text/html": [
       "<div>\n",
       "<style scoped>\n",
       "    .dataframe tbody tr th:only-of-type {\n",
       "        vertical-align: middle;\n",
       "    }\n",
       "\n",
       "    .dataframe tbody tr th {\n",
       "        vertical-align: top;\n",
       "    }\n",
       "\n",
       "    .dataframe thead th {\n",
       "        text-align: right;\n",
       "    }\n",
       "</style>\n",
       "<table border=\"1\" class=\"dataframe\">\n",
       "  <thead>\n",
       "    <tr style=\"text-align: right;\">\n",
       "      <th></th>\n",
       "      <th>REMITENDA</th>\n",
       "    </tr>\n",
       "    <tr>\n",
       "      <th>EXPEDICE</th>\n",
       "      <th></th>\n",
       "    </tr>\n",
       "  </thead>\n",
       "  <tbody>\n",
       "    <tr>\n",
       "      <th>2021-07-01</th>\n",
       "      <td>13574</td>\n",
       "    </tr>\n",
       "    <tr>\n",
       "      <th>2021-07-08</th>\n",
       "      <td>14029</td>\n",
       "    </tr>\n",
       "    <tr>\n",
       "      <th>2021-07-15</th>\n",
       "      <td>15396</td>\n",
       "    </tr>\n",
       "    <tr>\n",
       "      <th>2021-07-22</th>\n",
       "      <td>13006</td>\n",
       "    </tr>\n",
       "    <tr>\n",
       "      <th>2021-07-29</th>\n",
       "      <td>14182</td>\n",
       "    </tr>\n",
       "    <tr>\n",
       "      <th>2021-08-05</th>\n",
       "      <td>14222</td>\n",
       "    </tr>\n",
       "    <tr>\n",
       "      <th>2021-08-12</th>\n",
       "      <td>12544</td>\n",
       "    </tr>\n",
       "    <tr>\n",
       "      <th>2021-08-19</th>\n",
       "      <td>13266</td>\n",
       "    </tr>\n",
       "    <tr>\n",
       "      <th>2021-08-26</th>\n",
       "      <td>15063</td>\n",
       "    </tr>\n",
       "    <tr>\n",
       "      <th>2021-09-02</th>\n",
       "      <td>13351</td>\n",
       "    </tr>\n",
       "    <tr>\n",
       "      <th>2021-09-09</th>\n",
       "      <td>15057</td>\n",
       "    </tr>\n",
       "    <tr>\n",
       "      <th>2021-09-16</th>\n",
       "      <td>13075</td>\n",
       "    </tr>\n",
       "    <tr>\n",
       "      <th>2021-09-23</th>\n",
       "      <td>14426</td>\n",
       "    </tr>\n",
       "    <tr>\n",
       "      <th>2021-09-30</th>\n",
       "      <td>13078</td>\n",
       "    </tr>\n",
       "    <tr>\n",
       "      <th>2021-10-07</th>\n",
       "      <td>15814</td>\n",
       "    </tr>\n",
       "  </tbody>\n",
       "</table>\n",
       "</div>"
      ],
      "text/plain": [
       "            REMITENDA\n",
       "EXPEDICE             \n",
       "2021-07-01      13574\n",
       "2021-07-08      14029\n",
       "2021-07-15      15396\n",
       "2021-07-22      13006\n",
       "2021-07-29      14182\n",
       "2021-08-05      14222\n",
       "2021-08-12      12544\n",
       "2021-08-19      13266\n",
       "2021-08-26      15063\n",
       "2021-09-02      13351\n",
       "2021-09-09      15057\n",
       "2021-09-16      13075\n",
       "2021-09-23      14426\n",
       "2021-09-30      13078\n",
       "2021-10-07      15814"
      ]
     },
     "execution_count": 10,
     "metadata": {},
     "output_type": "execute_result"
    }
   ],
   "source": [
    "#REMITENDA ends at2022-06-16\n",
    "reflex_test.groupby([\"EXPEDICE\"]).agg({\"REMITENDA\":\"sum\"}).head(15)"
   ]
  },
  {
   "cell_type": "code",
   "execution_count": 11,
   "id": "9a8309a7-2d22-49cc-83be-9701edab58a1",
   "metadata": {},
   "outputs": [],
   "source": [
    "#take the first month for testing\n",
    "reflex_test = reflex_test[(reflex_test[\"EXPEDICE\"]>=\"2021-07-01\") & (reflex_test[\"EXPEDICE\"]<=\"2021-07-29\")]"
   ]
  },
  {
   "cell_type": "code",
   "execution_count": null,
   "id": "67c6c79d-b21a-453a-8c1f-7efa32b2869e",
   "metadata": {},
   "outputs": [],
   "source": [
    "columns_filter_for_CATBoost = [\"RETEZEC\", \"CROSSPROMO\",\"GECO\",\"WEEK\",\"HDS\",\"SOCIAL\",\"TV\",\"OTHER\",\n",
    "                               \"SALES_LAG_4\",\"SALES_LAG_5\",\"SALES_LAG_6\",\"SALES_LAG_7\",\"SALES_LAG_8\",\"SALES_LAG_9\",\n",
    "                               \"SALES_LAG_10\",\"SALES_LAG_11\",\"SALES_LAG_4_AVG_TILL_NOW\",\"REMITENDA\",\"SALES\",\"MONITORING_NEW_SHIFT_2\"]\n"
   ]
  },
  {
   "cell_type": "code",
   "execution_count": 13,
   "id": "31b511b6-94e8-4979-85a5-904d28ffdf5c",
   "metadata": {},
   "outputs": [],
   "source": [
    "reflex_test = reflex_test.dropna(subset=[\"SALES_LAG_4\",\"SALES_LAG_5\",\"SALES_LAG_6\",\"SALES_LAG_7\",\"SALES_LAG_8\",\"SALES_LAG_9\",\n",
    "                               \"SALES_LAG_10\",\"SALES_LAG_11\"])"
   ]
  },
  {
   "cell_type": "markdown",
   "id": "1fa93c6b-7329-4156-afc8-65b306a78697",
   "metadata": {
    "tags": []
   },
   "source": [
    "## Try only POS with monitoring"
   ]
  },
  {
   "cell_type": "code",
   "execution_count": 14,
   "id": "27f89e50-5601-431d-97db-1d0f349d17f3",
   "metadata": {},
   "outputs": [],
   "source": [
    "unique_pos_ids = monitoring_reflex.CISLO_ODBERATELE.unique()"
   ]
  },
  {
   "cell_type": "code",
   "execution_count": 15,
   "id": "82e12f78-7529-4040-9ec8-b1e8045a8aee",
   "metadata": {},
   "outputs": [],
   "source": [
    "reflex_test = reflex_test[reflex_test[\"CISLO_ODBERATELE\"].isin(unique_pos_ids)]"
   ]
  },
  {
   "cell_type": "code",
   "execution_count": 16,
   "id": "1090541e-5c67-45fa-8db5-589713b87e02",
   "metadata": {},
   "outputs": [],
   "source": [
    "reflex_test = reflex_test.rename(columns={\"DATE_y\":\"DATE\"})"
   ]
  },
  {
   "cell_type": "code",
   "execution_count": 17,
   "id": "aae3f812-5f81-49e3-90d3-479aed59368b",
   "metadata": {},
   "outputs": [],
   "source": [
    "reflex_test = pd.merge(reflex_test,monitoring_reflex,how=\"left\",\n",
    "                      on=[\"DATE\",\"TITUL\",\"CISLO_ODBERATELE\"])"
   ]
  },
  {
   "cell_type": "code",
   "execution_count": 18,
   "id": "1ba1adb5-7a62-4d04-83bb-54b50b9eb55b",
   "metadata": {},
   "outputs": [],
   "source": [
    "reflex_test = make_lags(reflex_test, lags=[2],col=\"MONITORING\")"
   ]
  },
  {
   "cell_type": "code",
   "execution_count": 19,
   "id": "e3ac14ab-9f8b-4af0-9a6e-9d4989bcbc22",
   "metadata": {},
   "outputs": [],
   "source": [
    "reflex_test = reflex_test.dropna(subset=[\"MONITORING_NEW_SHIFT_2\"])"
   ]
  },
  {
   "cell_type": "code",
   "execution_count": null,
   "id": "27135db8-71b7-4ac4-9719-941937b693a3",
   "metadata": {},
   "outputs": [],
   "source": []
  },
  {
   "cell_type": "code",
   "execution_count": 20,
   "id": "0ab468e6-4c54-4e47-9040-4fa3ff2885c9",
   "metadata": {},
   "outputs": [],
   "source": [
    "reflex_test = reflex_test.filter(columns_filter_for_CATBoost)"
   ]
  },
  {
   "cell_type": "code",
   "execution_count": 21,
   "id": "3bd5fa74-3954-4b21-8b5e-d3c529956b36",
   "metadata": {},
   "outputs": [],
   "source": [
    "remittence_test = reflex_test.REMITENDA"
   ]
  },
  {
   "cell_type": "code",
   "execution_count": 22,
   "id": "4ab683cc-4dda-4f28-acc2-81ee0261bd84",
   "metadata": {},
   "outputs": [],
   "source": [
    "y_true = reflex_test.SALES"
   ]
  },
  {
   "cell_type": "code",
   "execution_count": 23,
   "id": "c39e4fe7-47a0-45bd-bd22-113166500888",
   "metadata": {},
   "outputs": [],
   "source": [
    "df_MA_model_copy = reflex_test.copy()\n",
    "df_MA_model_copy[\"ROLLING_MEAN\"] = df_MA_model_copy[[\"SALES_LAG_4\",\"SALES_LAG_5\",\"SALES_LAG_6\",\"SALES_LAG_7\"]].mean(axis=1)\n",
    "MA_predictions = df_MA_model_copy.ROLLING_MEAN.round().values"
   ]
  },
  {
   "cell_type": "code",
   "execution_count": 24,
   "id": "d510868f-6b7f-4ad6-a29d-803d56c68124",
   "metadata": {},
   "outputs": [],
   "source": [
    "reflex_test = reflex_test.drop(columns=[\"REMITENDA\",\"SALES\"])"
   ]
  },
  {
   "cell_type": "code",
   "execution_count": 25,
   "id": "81ec9822-d77b-4d24-a803-43dbb51069a1",
   "metadata": {},
   "outputs": [],
   "source": [
    "logged_model = 'runs:/60daaf753b1d4eb6817ce07965dd149f/pipeline'\n",
    "\n",
    "# Load model as a PyFuncModel.\n",
    "loaded_model = mlflow.pyfunc.load_model(logged_model)\n",
    "\n",
    "# Predict on a Pandas DataFrame.\n",
    "y_pred = loaded_model.predict(pd.DataFrame(reflex_test))\n",
    "\n",
    "y_pred = y_pred.round()"
   ]
  },
  {
   "cell_type": "code",
   "execution_count": 26,
   "id": "e40cb13c-c0e3-4c09-9085-5144e124676e",
   "metadata": {},
   "outputs": [
    {
     "data": {
      "text/plain": [
       "{'MAE': 1.656078860898138,\n",
       " 'MSE': 11.048740416210295,\n",
       " 'r2': 0.8311256476135767,\n",
       " 'hackathon_loss': 11.041621029572838}"
      ]
     },
     "execution_count": 26,
     "metadata": {},
     "output_type": "execute_result"
    }
   ],
   "source": [
    "test_metrics_model = get_metrics(\n",
    "        y_true=y_true, \n",
    "        y_pred=y_pred, \n",
    "        remittence=remittence_test)\n",
    "    \n",
    "test_metrics_model"
   ]
  },
  {
   "cell_type": "code",
   "execution_count": 28,
   "id": "b035923a-7224-4fc1-a7dd-552ff5552a30",
   "metadata": {},
   "outputs": [
    {
     "data": {
      "text/plain": [
       "{'MAE': 1.8127053669222344,\n",
       " 'MSE': 15.429901423877327,\n",
       " 'r2': 0.7641618399758375,\n",
       " 'hackathon_loss': 15.429901423877327}"
      ]
     },
     "execution_count": 28,
     "metadata": {},
     "output_type": "execute_result"
    }
   ],
   "source": [
    "test_metrics_MA = get_metrics(\n",
    "        y_true=y_true, \n",
    "        y_pred=MA_predictions, \n",
    "        remittence=remittence_test)\n",
    "    \n",
    "test_metrics_MA"
   ]
  },
  {
   "cell_type": "code",
   "execution_count": 163,
   "id": "2702c45e-6bea-4013-b027-fd26a48a8c15",
   "metadata": {},
   "outputs": [],
   "source": [
    "with mlflow.start_run(run_name = \"TEST_SET_PERFORMANCE_MONITORING\", experiment_id=1) as run:\n",
    "    \n",
    "    test_metrics_model = get_metrics(\n",
    "        y_true=y_true, \n",
    "        y_pred=y_pred, \n",
    "        remittence=remittence_test)\n",
    "    \n",
    "    test_metrics_MA = get_metrics(\n",
    "        y_true=y_true, \n",
    "        y_pred=MA_predictions, \n",
    "        remittence=remittence_test)\n",
    "    \n",
    "    features_dict = dict(zip(list(reflex_test.columns),list([\"feature\" for i in range(len(reflex_test.columns))])))\n",
    "    \n",
    "    mlflow.log_params(features_dict)\n",
    "    mlflow.log_metrics({f\"test_model_{metric_name}_rounded\":metric_value for metric_name, metric_value in test_metrics_model.items()})\n",
    "    mlflow.log_metrics({f\"test_MA_{metric_name}_rounded\":metric_value for metric_name, metric_value in test_metrics_MA.items()})\n"
   ]
  },
  {
   "cell_type": "markdown",
   "id": "5068411f-00d3-477a-96c8-5f5f9074f0bb",
   "metadata": {
    "tags": []
   },
   "source": [
    "## Try POS without monitoring"
   ]
  },
  {
   "cell_type": "code",
   "execution_count": 208,
   "id": "27e725a0-062e-44c8-ad91-3f6206f3e620",
   "metadata": {},
   "outputs": [],
   "source": [
    "unique_pos_ids = monitoring_reflex.CISLO_ODBERATELE.unique()\n",
    "\n",
    "reflex_test = reflex_test[~reflex_test[\"CISLO_ODBERATELE\"].isin(unique_pos_ids)]\n",
    "\n",
    "reflex_test = reflex_test.filter(columns_filter_for_CATBoost)\n",
    "\n",
    "remittence_test = reflex_test.REMITENDA\n",
    "\n",
    "y_true = reflex_test.SALES\n",
    "\n",
    "df_MA_model_copy = reflex_test.copy()\n",
    "df_MA_model_copy[\"ROLLING_MEAN\"] = df_MA_model_copy[[\"SALES_LAG_4\",\"SALES_LAG_5\",\"SALES_LAG_6\",\"SALES_LAG_7\"]].mean(axis=1)\n",
    "MA_predictions = df_MA_model_copy.ROLLING_MEAN.round().values\n",
    "\n",
    "reflex_test = reflex_test.drop(columns=[\"REMITENDA\",\"SALES\"])"
   ]
  },
  {
   "cell_type": "code",
   "execution_count": 209,
   "id": "074576dc-3e6d-470d-aad7-4c362d296ef5",
   "metadata": {},
   "outputs": [],
   "source": [
    "logged_model = 'runs:/11824f1c145b4ba48937b4f54fd4a078/pipeline'\n",
    "\n",
    "# Load model as a PyFuncModel.\n",
    "loaded_model = mlflow.pyfunc.load_model(logged_model)\n",
    "\n",
    "# Predict on a Pandas DataFrame.\n",
    "y_pred = loaded_model.predict(pd.DataFrame(reflex_test))\n",
    "\n",
    "y_pred = y_pred.round()"
   ]
  },
  {
   "cell_type": "code",
   "execution_count": 210,
   "id": "b8a17950-ab83-471a-bb6c-8926aa7ab7ea",
   "metadata": {},
   "outputs": [
    {
     "data": {
      "text/plain": [
       "{'MAE': 0.8362287598275425,\n",
       " 'MSE': 1.8836545777326907,\n",
       " 'r2': 0.8106295828896634,\n",
       " 'hackathon_loss': 1.8756657367486684}"
      ]
     },
     "execution_count": 210,
     "metadata": {},
     "output_type": "execute_result"
    }
   ],
   "source": [
    "test_metrics_model = get_metrics(\n",
    "        y_true=y_true, \n",
    "        y_pred=y_pred, \n",
    "        remittence=remittence_test)\n",
    "    \n",
    "test_metrics_model"
   ]
  },
  {
   "cell_type": "code",
   "execution_count": 211,
   "id": "411acf0e-f4be-494d-84e1-6e7032641609",
   "metadata": {},
   "outputs": [
    {
     "data": {
      "text/plain": [
       "{'MAE': 0.9079064164341871,\n",
       " 'MSE': 2.2367803702764393,\n",
       " 'r2': 0.7751286054721798,\n",
       " 'hackathon_loss': 2.2034301293431398}"
      ]
     },
     "execution_count": 211,
     "metadata": {},
     "output_type": "execute_result"
    }
   ],
   "source": [
    "test_metrics_MA = get_metrics(\n",
    "        y_true=y_true, \n",
    "        y_pred=MA_predictions, \n",
    "        remittence=remittence_test)\n",
    "    \n",
    "test_metrics_MA"
   ]
  },
  {
   "cell_type": "code",
   "execution_count": null,
   "id": "4c957fd5-3eaf-4218-97f4-14d72baeac3f",
   "metadata": {},
   "outputs": [],
   "source": []
  }
 ],
 "metadata": {
  "kernelspec": {
   "display_name": "Python 3.10.5 64-bit",
   "language": "python",
   "name": "python3"
  },
  "language_info": {
   "codemirror_mode": {
    "name": "ipython",
    "version": 3
   },
   "file_extension": ".py",
   "mimetype": "text/x-python",
   "name": "python",
   "nbconvert_exporter": "python",
   "pygments_lexer": "ipython3",
   "version": "3.10.5"
  },
  "vscode": {
   "interpreter": {
    "hash": "aee8b7b246df8f9039afb4144a1f6fd8d2ca17a180786b69acc140d282b71a49"
   }
  }
 },
 "nbformat": 4,
 "nbformat_minor": 5
}
